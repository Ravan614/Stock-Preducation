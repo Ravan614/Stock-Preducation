{
  "nbformat": 4,
  "nbformat_minor": 0,
  "metadata": {
    "colab": {
      "provenance": []
    },
    "kernelspec": {
      "name": "python3",
      "display_name": "Python 3"
    },
    "language_info": {
      "name": "python"
    }
  },
  "cells": [
    {
      "cell_type": "code",
      "execution_count": null,
      "metadata": {
        "id": "sO_jIZcHip8f"
      },
      "outputs": [],
      "source": [
        "import pandas as pd\n",
        "import numpy as np\n",
        "import datetime as dt\n",
        "import yfinance\n",
        "\n"
      ]
    },
    {
      "cell_type": "code",
      "source": [
        "import random\n",
        "\n",
        "# Define the available stocks\n",
        "stocks = ['AAPL', 'GOOG', 'AMZN', 'FB', 'TSLA']\n",
        "\n",
        "# Initialize the portfolio dictionary\n",
        "portfolio = {stock: 0 for stock in stocks}\n",
        "\n",
        "# Define the starting cash balance\n",
        "cash_balance = 10000\n",
        "\n",
        "# Define the number of days to simulate\n",
        "num_days = 30\n",
        "\n",
        "# Define the simulation tool\n",
        "def simulate_price_change(current_price):\n",
        "    # Simulate a price change based on a normal distribution\n",
        "    return current_price * (1 + random.normalvariate(0, 0.05))\n",
        "\n",
        "# Simulate the trading days\n",
        "for i in range(num_days):\n",
        "    print(f'Day {i + 1}')\n",
        "    print('Portfolio:', portfolio)\n",
        "    print('Cash balance:', cash_balance)\n",
        "\n",
        "    # Simulate the market prices for the day\n",
        "    market_prices = {stock: simulate_price_change(100) for stock in stocks}\n",
        "\n",
        "    # Prompt the user to enter trades\n",
        "    while True:\n",
        "        trade = input('Enter a trade (e.g. \"buy AAPL 10\" or \"sell GOOG 5\"): ')\n",
        "        if trade == 'done':\n",
        "            break\n",
        "\n",
        "        # Parse the trade\n",
        "        action, stock, amount = trade.split()\n",
        "        amount = int(amount)\n",
        "\n",
        "        # Calculate the transaction cost\n",
        "        price = market_prices[stock]\n",
        "        transaction_cost = price * amount\n",
        "\n",
        "        # Check if the user has enough cash to make the trade\n",
        "        if action == 'buy' and transaction_cost > cash_balance:\n",
        "            print('Insufficient funds')\n",
        "            continue\n",
        "\n",
        "        # Update the portfolio and cash balance\n",
        "        if action == 'buy':\n",
        "            portfolio[stock] += amount\n",
        "            cash_balance -= transaction_cost\n",
        "        elif action == 'sell':\n",
        "            if portfolio[stock] < amount:\n",
        "                print('Insufficient shares')\n",
        "                continue\n",
        "            portfolio[stock] -= amount\n",
        "            cash_balance += transaction_cost\n",
        "\n",
        "    # Calculate the daily P&L\n",
        "    daily_pnl = sum([portfolio[stock] * (market_prices[stock] - 100) for stock in stocks])\n",
        "    cash_balance += daily_pnl\n",
        "\n",
        "    # Print the daily P&L\n",
        "    print(f'Daily P&L: {daily_pnl:.2f}')\n",
        "\n",
        "# Calculate the total P&L\n",
        "total_pnl = cash_balance - 10000\n",
        "\n",
        "# Print the total P&L\n",
        "print(f'Total P&L: {total_pnl:.2f}')\n"
      ],
      "metadata": {
        "colab": {
          "base_uri": "https://localhost:8080/",
          "height": 630
        },
        "id": "rYs_RKL0i5Na",
        "outputId": "651173af-05f7-446d-ff2c-94bdbb095356"
      },
      "execution_count": null,
      "outputs": [
        {
          "output_type": "stream",
          "name": "stdout",
          "text": [
            "Day 1\n",
            "Portfolio: {'AAPL': 0, 'GOOG': 0, 'AMZN': 0, 'FB': 0, 'TSLA': 0}\n",
            "Cash balance: 10000\n",
            "Enter a trade (e.g. \"buy AAPL 10\" or \"sell GOOG 5\"): buy AAPL 10\n",
            "Enter a trade (e.g. \"buy AAPL 10\" or \"sell GOOG 5\"): sell AAPL 5\n",
            "Enter a trade (e.g. \"buy AAPL 10\" or \"sell GOOG 5\"): done\n",
            "Daily P&L: 13.61\n",
            "Day 2\n",
            "Portfolio: {'AAPL': 5, 'GOOG': 0, 'AMZN': 0, 'FB': 0, 'TSLA': 0}\n",
            "Cash balance: 9499.999999999998\n",
            "Enter a trade (e.g. \"buy AAPL 10\" or \"sell GOOG 5\"): done\n",
            "Daily P&L: -38.19\n",
            "Day 3\n",
            "Portfolio: {'AAPL': 5, 'GOOG': 0, 'AMZN': 0, 'FB': 0, 'TSLA': 0}\n",
            "Cash balance: 9461.813043997272\n"
          ]
        },
        {
          "output_type": "error",
          "ename": "KeyboardInterrupt",
          "evalue": "ignored",
          "traceback": [
            "\u001b[0;31m---------------------------------------------------------------------------\u001b[0m",
            "\u001b[0;31mKeyboardInterrupt\u001b[0m                         Traceback (most recent call last)",
            "\u001b[0;32m<ipython-input-10-f0d3fa5f8f35>\u001b[0m in \u001b[0;36m<cell line: 21>\u001b[0;34m()\u001b[0m\n\u001b[1;32m     29\u001b[0m     \u001b[0;31m# Prompt the user to enter trades\u001b[0m\u001b[0;34m\u001b[0m\u001b[0;34m\u001b[0m\u001b[0m\n\u001b[1;32m     30\u001b[0m     \u001b[0;32mwhile\u001b[0m \u001b[0;32mTrue\u001b[0m\u001b[0;34m:\u001b[0m\u001b[0;34m\u001b[0m\u001b[0;34m\u001b[0m\u001b[0m\n\u001b[0;32m---> 31\u001b[0;31m         \u001b[0mtrade\u001b[0m \u001b[0;34m=\u001b[0m \u001b[0minput\u001b[0m\u001b[0;34m(\u001b[0m\u001b[0;34m'Enter a trade (e.g. \"buy AAPL 10\" or \"sell GOOG 5\"): '\u001b[0m\u001b[0;34m)\u001b[0m\u001b[0;34m\u001b[0m\u001b[0;34m\u001b[0m\u001b[0m\n\u001b[0m\u001b[1;32m     32\u001b[0m         \u001b[0;32mif\u001b[0m \u001b[0mtrade\u001b[0m \u001b[0;34m==\u001b[0m \u001b[0;34m'done'\u001b[0m\u001b[0;34m:\u001b[0m\u001b[0;34m\u001b[0m\u001b[0;34m\u001b[0m\u001b[0m\n\u001b[1;32m     33\u001b[0m             \u001b[0;32mbreak\u001b[0m\u001b[0;34m\u001b[0m\u001b[0;34m\u001b[0m\u001b[0m\n",
            "\u001b[0;32m/usr/local/lib/python3.10/dist-packages/ipykernel/kernelbase.py\u001b[0m in \u001b[0;36mraw_input\u001b[0;34m(self, prompt)\u001b[0m\n\u001b[1;32m    849\u001b[0m                 \u001b[0;34m\"raw_input was called, but this frontend does not support input requests.\"\u001b[0m\u001b[0;34m\u001b[0m\u001b[0;34m\u001b[0m\u001b[0m\n\u001b[1;32m    850\u001b[0m             )\n\u001b[0;32m--> 851\u001b[0;31m         return self._input_request(str(prompt),\n\u001b[0m\u001b[1;32m    852\u001b[0m             \u001b[0mself\u001b[0m\u001b[0;34m.\u001b[0m\u001b[0m_parent_ident\u001b[0m\u001b[0;34m,\u001b[0m\u001b[0;34m\u001b[0m\u001b[0;34m\u001b[0m\u001b[0m\n\u001b[1;32m    853\u001b[0m             \u001b[0mself\u001b[0m\u001b[0;34m.\u001b[0m\u001b[0m_parent_header\u001b[0m\u001b[0;34m,\u001b[0m\u001b[0;34m\u001b[0m\u001b[0;34m\u001b[0m\u001b[0m\n",
            "\u001b[0;32m/usr/local/lib/python3.10/dist-packages/ipykernel/kernelbase.py\u001b[0m in \u001b[0;36m_input_request\u001b[0;34m(self, prompt, ident, parent, password)\u001b[0m\n\u001b[1;32m    893\u001b[0m             \u001b[0;32mexcept\u001b[0m \u001b[0mKeyboardInterrupt\u001b[0m\u001b[0;34m:\u001b[0m\u001b[0;34m\u001b[0m\u001b[0;34m\u001b[0m\u001b[0m\n\u001b[1;32m    894\u001b[0m                 \u001b[0;31m# re-raise KeyboardInterrupt, to truncate traceback\u001b[0m\u001b[0;34m\u001b[0m\u001b[0;34m\u001b[0m\u001b[0m\n\u001b[0;32m--> 895\u001b[0;31m                 \u001b[0;32mraise\u001b[0m \u001b[0mKeyboardInterrupt\u001b[0m\u001b[0;34m(\u001b[0m\u001b[0;34m\"Interrupted by user\"\u001b[0m\u001b[0;34m)\u001b[0m \u001b[0;32mfrom\u001b[0m \u001b[0;32mNone\u001b[0m\u001b[0;34m\u001b[0m\u001b[0;34m\u001b[0m\u001b[0m\n\u001b[0m\u001b[1;32m    896\u001b[0m             \u001b[0;32mexcept\u001b[0m \u001b[0mException\u001b[0m \u001b[0;32mas\u001b[0m \u001b[0me\u001b[0m\u001b[0;34m:\u001b[0m\u001b[0;34m\u001b[0m\u001b[0;34m\u001b[0m\u001b[0m\n\u001b[1;32m    897\u001b[0m                 \u001b[0mself\u001b[0m\u001b[0;34m.\u001b[0m\u001b[0mlog\u001b[0m\u001b[0;34m.\u001b[0m\u001b[0mwarning\u001b[0m\u001b[0;34m(\u001b[0m\u001b[0;34m\"Invalid Message:\"\u001b[0m\u001b[0;34m,\u001b[0m \u001b[0mexc_info\u001b[0m\u001b[0;34m=\u001b[0m\u001b[0;32mTrue\u001b[0m\u001b[0;34m)\u001b[0m\u001b[0;34m\u001b[0m\u001b[0;34m\u001b[0m\u001b[0m\n",
            "\u001b[0;31mKeyboardInterrupt\u001b[0m: Interrupted by user"
          ]
        }
      ]
    }
  ]
}